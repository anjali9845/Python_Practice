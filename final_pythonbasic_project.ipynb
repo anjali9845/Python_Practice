{
  "nbformat": 4,
  "nbformat_minor": 0,
  "metadata": {
    "colab": {
      "provenance": []
    },
    "kernelspec": {
      "name": "python3",
      "display_name": "Python 3"
    },
    "language_info": {
      "name": "python"
    }
  },
  "cells": [
    {
      "cell_type": "markdown",
      "source": [
        "\n",
        "Q1: You are working in a bank, and you have been given two lists of the employees who worked in 2021. Employees’ names in list 1 are Ramesh, Suresh, Mahesh, Ali, Jacob, and Saritha. List 2 contains the names of Ali, Mukesh, Mahesh, Jacob, Sai, and Sarita. Please write a program that helps to identify people who are common in both lists. Please do not use any in-built function."
      ],
      "metadata": {
        "id": "sg6jJCEYNrew"
      }
    },
    {
      "cell_type": "code",
      "source": [
        "#method2\n",
        "list1=[\"Ramesh\", \"Suresh\", \"Mahesh\", \"Ali\", \"Jacob\", \"Saritha\"]\n",
        "list2=[\"Ali\", \"Mukesh\",\"Mahesh\", \"Jacob\", \"Sai\",\"Sarita\"]\n",
        "common_name=[]\n",
        "for name in list1:\n",
        "    if name in list2:\n",
        "     common_name.append(name)\n",
        "\n",
        "print(common_name)"
      ],
      "metadata": {
        "colab": {
          "base_uri": "https://localhost:8080/"
        },
        "id": "YksKfHw4Nxxo",
        "outputId": "8c634d94-f7d5-4b10-b6a8-03cc79c6a61c"
      },
      "execution_count": 6,
      "outputs": [
        {
          "output_type": "stream",
          "name": "stdout",
          "text": [
            "['Mahesh', 'Ali', 'Jacob']\n"
          ]
        }
      ]
    },
    {
      "cell_type": "markdown",
      "source": [
        "\n",
        "Q2: While entering data, someone entered a few names as a common string “Ramesh Suresh Mohit”.\n",
        "Please write a program which separates all the names and converts them into a list. Once converted into a list, please write a program that adds their age.\n",
        "Ramesh:  25\n",
        "Suresh: 22\n",
        "Mohit: 26"
      ],
      "metadata": {
        "id": "6DPKnqkxN0kA"
      }
    },
    {
      "cell_type": "code",
      "source": [
        "string=\"Ramesh Suresh Mohit\"\n",
        "name_list=string.split(\" \")\n",
        "age_list=[25,22,26]\n",
        "name_age=list(zip(name_list,age_list))\n",
        "print(name_list)\n",
        "print(list(name_age))\n",
        "#for name,age in name_age:\n",
        "  #print(f\"{name} : {age}\")"
      ],
      "metadata": {
        "colab": {
          "base_uri": "https://localhost:8080/"
        },
        "id": "H5UMDPcBOGT-",
        "outputId": "71ecb573-7594-4a9a-84b8-e9062a24f04a"
      },
      "execution_count": 7,
      "outputs": [
        {
          "output_type": "stream",
          "name": "stdout",
          "text": [
            "['Ramesh', 'Suresh', 'Mohit']\n",
            "[('Ramesh', 25), ('Suresh', 22), ('Mohit', 26)]\n"
          ]
        }
      ]
    },
    {
      "cell_type": "markdown",
      "source": [
        "Q3: You are working in a medical store. A patient came to your medical store and asked to buy 2 strips of paracetamol, 3 strips of azithromycin, and 5 strips of Vitamin C. One strip of paracetamol costs Rs 35, one strip of azithromycin costs Rs 49, and one strip of vitamin c costs Rs. 33. Patient gave you Rs 2000. Please tell us what is the total cost of each medicine, the total cost of all medicine, and how much money you refunded to the patient."
      ],
      "metadata": {
        "id": "71JC2Hn9OP8z"
      }
    },
    {
      "cell_type": "code",
      "source": [
        "def medical_bill(amt_recieved):\n",
        "  medicine_rate={\"paracetamol\":35,\"azithromycin\":49,\"vitaminC\":33}\n",
        "  patient_item={\"paracetamol\":2,\"azithromycin\":3,\"vitaminC\":5,\"Aspirin\":2}\n",
        "  sum=0\n",
        "  for medicine in patient_item.keys():\n",
        "    if medicine in medicine_rate.keys():\n",
        "      sum=sum+(patient_item[medicine]*medicine_rate[medicine])\n",
        "      print(f\"The cost of {patient_item[medicine]}  {medicine} is {patient_item[medicine]*medicine_rate[medicine]}\")\n",
        "    else:\n",
        "      print(f\"The {medicine} is not available\")\n",
        "\n",
        "  amt_return=amt_recieved-sum\n",
        "  print(f\"Total cost of all medicine is {sum}\")\n",
        "  print(f\"Money refunded to patient is {amt_return}\")\n",
        "\n",
        "\n",
        "amt_recieved=float(input(\"Enter the amount: \"))\n",
        "bill=medical_bill(amt_recieved)"
      ],
      "metadata": {
        "colab": {
          "base_uri": "https://localhost:8080/"
        },
        "id": "02npsEzHOSz_",
        "outputId": "1841db0f-19c4-4fea-bc3a-3c55358d2bb5"
      },
      "execution_count": 8,
      "outputs": [
        {
          "output_type": "stream",
          "name": "stdout",
          "text": [
            "Enter the amount: 2000\n",
            "The cost of 2  paracetamol is 70\n",
            "The cost of 3  azithromycin is 147\n",
            "The cost of 5  vitaminC is 165\n",
            "The Aspirin is not available\n",
            "Total cost of all medicine is 382\n",
            "Money refunded to patient is 1618.0\n"
          ]
        }
      ]
    },
    {
      "cell_type": "markdown",
      "source": [
        "Q4: Accept a sentence as input and find the number of vowels in it. Assume that the sentence has no punctuation marks. For example, I am learning python contains 6 vowels. This function should be applicable for all other different sentences."
      ],
      "metadata": {
        "id": "jOyv8nDEOXXR"
      }
    },
    {
      "cell_type": "code",
      "source": [
        "def vowel_count(sentence):\n",
        "  '''This function takes a string as an input and returns count of number of\n",
        "  vowels in that string.'''\n",
        "  vowel_list=[]\n",
        "  for letter in sentence:\n",
        "    if letter in ['a','e','i','o','u','A','E','I','O','U']:\n",
        "        vowel_list.append(letter)\n",
        "\n",
        "  no_of_vowel=len(vowel_list)\n",
        "  return no_of_vowel\n",
        "\n",
        "sentence=input(\"Enter a sentence: \")# I am learning python\n",
        "count=vowel_count(sentence)\n",
        "print(f\" {sentence} contains {count} vowels.\")"
      ],
      "metadata": {
        "colab": {
          "base_uri": "https://localhost:8080/"
        },
        "id": "iJEbcgr8OoIX",
        "outputId": "734201f5-4be2-4cc6-e35a-cb948ffb2c39"
      },
      "execution_count": 5,
      "outputs": [
        {
          "output_type": "stream",
          "name": "stdout",
          "text": [
            "Enter a sentence: I am learning python\n",
            " I am learning python contains 6 vowels.\n"
          ]
        }
      ]
    },
    {
      "cell_type": "markdown",
      "source": [
        "Q5: You have been appointed by the election commission to create a website. Your first task is to work on a program which tells candidates if they are eligible for voting or not. If they are eligible, your output should be ‘Congrats! You are eligible’; otherwise, it should tell that you have to return after X number of years. The eligibility criteria for voting is 18 years. For example, If someone is 18 or above, your output should be ‘Congrats! You are eligible’. If someone’s age is 15 years, it should print output as ‘return after 3 years’."
      ],
      "metadata": {
        "id": "KbOV59JkQF3a"
      }
    },
    {
      "cell_type": "code",
      "source": [
        "def voter_eligibility(age):\n",
        "  '''This function will check whether the paticular individual is eligible for\n",
        "  vote or not.'''\n",
        "  if age>=18:\n",
        "    return \"Congrats! You are eligible.\"\n",
        "  else:\n",
        "    age_remaining=18-age\n",
        "    return f\"Return after {age_remaining} years.\"\n",
        "\n",
        "age = int(input(\"Enter Your Age: \"))\n",
        "eligibility=voter_eligibility(age)\n",
        "print(eligibility)"
      ],
      "metadata": {
        "colab": {
          "base_uri": "https://localhost:8080/"
        },
        "id": "FvGvkNkiQMaX",
        "outputId": "099f6bf7-ef78-4d5f-bb9b-3c666404ccff"
      },
      "execution_count": 11,
      "outputs": [
        {
          "output_type": "stream",
          "name": "stdout",
          "text": [
            "Enter Your Age: 10\n",
            "Return after 8 years.\n"
          ]
        }
      ]
    },
    {
      "cell_type": "markdown",
      "source": [
        "Q6: Given a list of integers, find the cumulative sum of the elements of the list and store them in another list.\n",
        "\n",
        "A=[1, 2, 3, 4, 5]\n",
        "\n",
        "Output:[1, 3, 6, 10, 15]"
      ],
      "metadata": {
        "id": "j8JVkKpAQkkM"
      }
    },
    {
      "cell_type": "code",
      "source": [
        "#method 1\n",
        "a=[1,2,3,4,5]\n",
        "new_list=[]\n",
        "addition=0\n",
        "for num in a:\n",
        "  addition=addition+num\n",
        "  new_list.append(addition)\n",
        "print(new_list)\n"
      ],
      "metadata": {
        "colab": {
          "base_uri": "https://localhost:8080/"
        },
        "id": "kIWGSNlZQlTH",
        "outputId": "d2be534e-a00f-45b9-f71b-f7e3634b91eb"
      },
      "execution_count": 12,
      "outputs": [
        {
          "output_type": "stream",
          "name": "stdout",
          "text": [
            "[1, 3, 6, 10, 15]\n"
          ]
        }
      ]
    },
    {
      "cell_type": "code",
      "source": [
        "#method2 -Taking input from user\n",
        "def cummulative_sum(a):\n",
        "  '''This is fuction  will take a list as an input from user and return a\n",
        "    list which stores cummulative sum of the elements of the list.'''\n",
        "  new_list=[]\n",
        "  addition=0\n",
        "  for num in a:\n",
        "    addition=addition+num\n",
        "    new_list.append(addition)\n",
        "  return new_list\n",
        "\n",
        "a=[]\n",
        "n=int(input(\"Enter the number of element you want in a list: \"))\n",
        "for i in range(0,n):\n",
        "  num=int(input(\"Enter the number: \"))\n",
        "  a.append(num)\n",
        "sum=cummulative_sum(a)\n",
        "print(sum)"
      ],
      "metadata": {
        "colab": {
          "base_uri": "https://localhost:8080/"
        },
        "id": "Dv6okoY0QyPH",
        "outputId": "1cf1dd62-c72f-428d-8048-ff250a8fd5bb"
      },
      "execution_count": 13,
      "outputs": [
        {
          "output_type": "stream",
          "name": "stdout",
          "text": [
            "Enter the number of element you want in a list: 5\n",
            "Enter the number: 1\n",
            "Enter the number: 2\n",
            "Enter the number: 3\n",
            "Enter the number: 4\n",
            "Enter the number: 5\n",
            "[1, 3, 6, 10, 15]\n"
          ]
        }
      ]
    },
    {
      "cell_type": "markdown",
      "source": [
        "Q7: WAP to encode a message entered by user as per below conditions: for every word in the sentence,\n",
        "\n",
        "1.If the word starts with a vowel, encode it as the first and last letter of the word.\n",
        "2.If the word starts with a consonant, remove all vowels from it. Ensure the case insensitive comparisons/checks are performed. Please enter your text:The quick brown fox used to sleep inside this box Encoded Msg: Th qck brwn fx ud t slp ie ths bx"
      ],
      "metadata": {
        "id": "sx_iRG5hQ2QK"
      }
    },
    {
      "cell_type": "code",
      "source": [
        "def encoded_text(string):\n",
        "  \"\"\"\n",
        "    This function encodes a given string according to the given rules:\n",
        "    1. If a word starts with a vowel, keep the first and last letter of the word.\n",
        "    2. Remove all non-vowel letters from words starting with a consonant.\n",
        "    3. Preserve spaces between words.\n",
        "    and then returns the encoded string\n",
        "  \"\"\"\n",
        "  string=string.split()\n",
        "  new_string=[]\n",
        "  for word in string:\n",
        "    if word.startswith(('a','e','i','o','u','A','E','I','O','U')) :\n",
        "      new_word=word[0]+word[-1]\n",
        "      new_string.append(new_word)\n",
        "    else:\n",
        "      new_letter=\" \"\n",
        "      for letter in word:\n",
        "        if letter not in ['a','e','i','o','u','A','E','I','O','U']:\n",
        "          new_letter=new_letter+letter\n",
        "      #print(new_letter)\n",
        "      new_string.append(new_letter)\n",
        "\n",
        "  new_string=\" \".join(new_string)\n",
        "  return new_string\n",
        "\n",
        "string=input(\"Enter a text: \")#The quick brown fox used to sleep inside this box\n",
        "\n",
        "print(encoded_text(string))"
      ],
      "metadata": {
        "colab": {
          "base_uri": "https://localhost:8080/"
        },
        "id": "iCgIy-HKQ8wW",
        "outputId": "f22fd5a0-79e5-4382-baa2-85a25d75a195"
      },
      "execution_count": 14,
      "outputs": [
        {
          "output_type": "stream",
          "name": "stdout",
          "text": [
            "Enter a text: The quick brown fox used to sleep inside this box\n",
            " Th  qck  brwn  fx ud  t  slp ie  ths  bx\n"
          ]
        }
      ]
    },
    {
      "cell_type": "markdown",
      "source": [
        "Q8:Write a program to implement run length encoding of a string RLE:Consecutive repetition of a character has to be replaced with the count of occurrences and the character. Enter your string :aabbbccdddae Encoded: 2a3b2c3d1a1e"
      ],
      "metadata": {
        "id": "kbSp1vx8RC2Z"
      }
    },
    {
      "cell_type": "code",
      "source": [
        "def run_length_encoding(input_string):\n",
        "  \"\"\"\n",
        "    This function perform Run-Length Encoding on a given input string.\n",
        "    (Run-Length Encoding (RLE) is a simple form of data compression that\n",
        "     represents the repeated consecutive characters in a string as a single\n",
        "      character followed by the number of times it appears consecutively.)\n",
        "    and then return the encoded string using Run-Length Encoding.\n",
        "  \"\"\"\n",
        "  encoded_string = \"\"\n",
        "  count = 1\n",
        "\n",
        "  for i in range(1, len(input_string)):\n",
        "      if input_string[i] == input_string[i - 1]:\n",
        "          count += 1\n",
        "      else:\n",
        "          encoded_string += str(count) + input_string[i-1]\n",
        "          count = 1\n",
        "\n",
        "  encoded_string += str(count) + input_string[-1]\n",
        "\n",
        "  return encoded_string\n",
        "\n",
        "\n",
        "input_string = input(\"Enter your string: \")\n",
        "\n",
        "encoded_string = run_length_encoding(input_string)\n",
        "\n",
        "print(\"Encoded:\", encoded_string)"
      ],
      "metadata": {
        "colab": {
          "base_uri": "https://localhost:8080/"
        },
        "id": "412BC9fERM_Z",
        "outputId": "acae7b80-47ac-48cf-eb7e-325590ea6608"
      },
      "execution_count": 15,
      "outputs": [
        {
          "output_type": "stream",
          "name": "stdout",
          "text": [
            "Enter your string: aaafffgggj\n",
            "Encoded: 3a3f3g1j\n"
          ]
        }
      ]
    }
  ]
}